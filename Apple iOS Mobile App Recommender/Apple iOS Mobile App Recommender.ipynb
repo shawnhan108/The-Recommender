{
 "cells": [
  {
   "cell_type": "markdown",
   "metadata": {},
   "source": [
    "# Introduction"
   ]
  },
  {
   "cell_type": "markdown",
   "metadata": {},
   "source": [
    "This notebook seeks to recommend iOS mobile apps in Apple Store for users based on a dataset collected using the iTunes Search API. The dataset contains user ratings for over 7000 mobiles apps. \n",
    "\n",
    "The recommender is a simple recommender system without using any collaborative filtering techniques. It uses Bayesian bandit to solve the explore-exploit problem. For setup, it initializes every app as a beta bandit ($\\alpha$ = $\\beta$ = 1), then updates the app's parameters using every single rating of the app. For future recommendations, it recommends the *argmax* of the samples collected from each beta distribution, and updates its parameters using the new rating."
   ]
  },
  {
   "cell_type": "markdown",
   "metadata": {},
   "source": [
    "# Data Proprocessing"
   ]
  },
  {
   "cell_type": "code",
   "execution_count": 1,
   "metadata": {},
   "outputs": [],
   "source": [
    "import numpy as np\n",
    "import pandas as pd\n",
    "from matplotlib import pyplot as plt\n",
    "import seaborn as sns\n",
    "%matplotlib inline"
   ]
  },
  {
   "cell_type": "code",
   "execution_count": 2,
   "metadata": {},
   "outputs": [
    {
     "data": {
      "text/html": [
       "<div>\n",
       "<style scoped>\n",
       "    .dataframe tbody tr th:only-of-type {\n",
       "        vertical-align: middle;\n",
       "    }\n",
       "\n",
       "    .dataframe tbody tr th {\n",
       "        vertical-align: top;\n",
       "    }\n",
       "\n",
       "    .dataframe thead th {\n",
       "        text-align: right;\n",
       "    }\n",
       "</style>\n",
       "<table border=\"1\" class=\"dataframe\">\n",
       "  <thead>\n",
       "    <tr style=\"text-align: right;\">\n",
       "      <th></th>\n",
       "      <th>id</th>\n",
       "      <th>track_name</th>\n",
       "      <th>price</th>\n",
       "      <th>rating_count_tot</th>\n",
       "      <th>user_rating</th>\n",
       "      <th>prime_genre</th>\n",
       "    </tr>\n",
       "  </thead>\n",
       "  <tbody>\n",
       "    <tr>\n",
       "      <th>0</th>\n",
       "      <td>281656475</td>\n",
       "      <td>PAC-MAN Premium</td>\n",
       "      <td>3.99</td>\n",
       "      <td>21292</td>\n",
       "      <td>4.0</td>\n",
       "      <td>Games</td>\n",
       "    </tr>\n",
       "    <tr>\n",
       "      <th>1</th>\n",
       "      <td>281796108</td>\n",
       "      <td>Evernote - stay organized</td>\n",
       "      <td>0.00</td>\n",
       "      <td>161065</td>\n",
       "      <td>4.0</td>\n",
       "      <td>Productivity</td>\n",
       "    </tr>\n",
       "    <tr>\n",
       "      <th>2</th>\n",
       "      <td>281940292</td>\n",
       "      <td>WeatherBug - Local Weather, Radar, Maps, Alerts</td>\n",
       "      <td>0.00</td>\n",
       "      <td>188583</td>\n",
       "      <td>3.5</td>\n",
       "      <td>Weather</td>\n",
       "    </tr>\n",
       "    <tr>\n",
       "      <th>3</th>\n",
       "      <td>282614216</td>\n",
       "      <td>eBay: Best App to Buy, Sell, Save! Online Shop...</td>\n",
       "      <td>0.00</td>\n",
       "      <td>262241</td>\n",
       "      <td>4.0</td>\n",
       "      <td>Shopping</td>\n",
       "    </tr>\n",
       "    <tr>\n",
       "      <th>4</th>\n",
       "      <td>282935706</td>\n",
       "      <td>Bible</td>\n",
       "      <td>0.00</td>\n",
       "      <td>985920</td>\n",
       "      <td>4.5</td>\n",
       "      <td>Reference</td>\n",
       "    </tr>\n",
       "  </tbody>\n",
       "</table>\n",
       "</div>"
      ],
      "text/plain": [
       "          id                                         track_name  price  \\\n",
       "0  281656475                                    PAC-MAN Premium   3.99   \n",
       "1  281796108                          Evernote - stay organized   0.00   \n",
       "2  281940292    WeatherBug - Local Weather, Radar, Maps, Alerts   0.00   \n",
       "3  282614216  eBay: Best App to Buy, Sell, Save! Online Shop...   0.00   \n",
       "4  282935706                                              Bible   0.00   \n",
       "\n",
       "   rating_count_tot  user_rating   prime_genre  \n",
       "0             21292          4.0         Games  \n",
       "1            161065          4.0  Productivity  \n",
       "2            188583          3.5       Weather  \n",
       "3            262241          4.0      Shopping  \n",
       "4            985920          4.5     Reference  "
      ]
     },
     "execution_count": 2,
     "metadata": {},
     "output_type": "execute_result"
    }
   ],
   "source": [
    "apps = pd.read_csv(\"datasets_30069_39285_AppleStore.csv\")\n",
    "apps.drop(['Unnamed: 0', 'size_bytes', 'currency', 'rating_count_ver', 'user_rating_ver', \n",
    "           'ver', 'cont_rating', 'sup_devices.num', 'ipadSc_urls.num', 'lang.num', 'vpp_lic'], axis=1, inplace=True)\n",
    "apps.head(5)"
   ]
  },
  {
   "cell_type": "code",
   "execution_count": 3,
   "metadata": {},
   "outputs": [
    {
     "name": "stdout",
     "output_type": "stream",
     "text": [
      "<class 'pandas.core.frame.DataFrame'>\n",
      "RangeIndex: 7197 entries, 0 to 7196\n",
      "Data columns (total 6 columns):\n",
      " #   Column            Non-Null Count  Dtype  \n",
      "---  ------            --------------  -----  \n",
      " 0   id                7197 non-null   int64  \n",
      " 1   track_name        7197 non-null   object \n",
      " 2   price             7197 non-null   float64\n",
      " 3   rating_count_tot  7197 non-null   int64  \n",
      " 4   user_rating       7197 non-null   float64\n",
      " 5   prime_genre       7197 non-null   object \n",
      "dtypes: float64(2), int64(2), object(2)\n",
      "memory usage: 337.5+ KB\n"
     ]
    }
   ],
   "source": [
    "apps.info()"
   ]
  },
  {
   "cell_type": "markdown",
   "metadata": {},
   "source": [
    "# Bayesian Bandit"
   ]
  },
  {
   "cell_type": "code",
   "execution_count": 4,
   "metadata": {},
   "outputs": [],
   "source": [
    "from scipy.stats import beta\n",
    "\n",
    "class BayesianBandit(object):\n",
    "    def __init__(self):\n",
    "        self.a = 1\n",
    "        self.b = 1\n",
    "    \n",
    "    def sample(self):\n",
    "        return np.random.beta(self.a, self.b)\n",
    "    \n",
    "    def pull(self, p):\n",
    "        assert p <= 1\n",
    "        return np.random.random() * p\n",
    "    \n",
    "    def update(self, x):\n",
    "        self.a += x\n",
    "        self.b += 1 - x"
   ]
  },
  {
   "cell_type": "code",
   "execution_count": 5,
   "metadata": {},
   "outputs": [],
   "source": [
    "appCount = apps.shape[0]\n",
    "bandits = [BayesianBandit() for i in range(appCount)]"
   ]
  },
  {
   "cell_type": "code",
   "execution_count": 6,
   "metadata": {},
   "outputs": [
    {
     "name": "stdout",
     "output_type": "stream",
     "text": [
      "0/7197 app data setup\n",
      "1000/7197 app data setup\n",
      "2000/7197 app data setup\n",
      "3000/7197 app data setup\n",
      "4000/7197 app data setup\n",
      "5000/7197 app data setup\n",
      "6000/7197 app data setup\n",
      "7000/7197 app data setup\n"
     ]
    }
   ],
   "source": [
    "def setup():\n",
    "    for index, row in apps.iterrows():\n",
    "        iterNum = row['rating_count_tot']\n",
    "        rating = row['user_rating']\n",
    "\n",
    "        for _ in range(iterNum):\n",
    "            bandits[index].update(rating / 5)\n",
    "\n",
    "        if index % 1000 == 0:\n",
    "            print(\"{0}/{1} app data setup\".format(index, appCount))\n",
    "\n",
    "setup()"
   ]
  },
  {
   "cell_type": "markdown",
   "metadata": {},
   "source": [
    "# Recommendation"
   ]
  },
  {
   "cell_type": "code",
   "execution_count": 14,
   "metadata": {
    "scrolled": false
   },
   "outputs": [
    {
     "name": "stdout",
     "output_type": "stream",
     "text": [
      "bestSample is: 0.999999355227772\n",
      "Despicable Bear - Top Beat Action Game recommanded. Simulation response rating is 3.5.\n"
     ]
    },
    {
     "data": {
      "image/png": "[encoded data removed]",
      "text/plain": [
       "<Figure size 432x288 with 1 Axes>"
      ]
     },
     "metadata": {
      "needs_background": "light"
     },
     "output_type": "display_data"
    },
    {
     "name": "stdout",
     "output_type": "stream",
     "text": [
      "bestSample is: 0.9999999103178528\n",
      "CARROT To-Do - Talking Task List recommanded. Simulation response rating is 4.\n"
     ]
    },
    {
     "data": {
      "image/png": "[encoded data removed]",
      "text/plain": [
       "<Figure size 432x288 with 1 Axes>"
      ]
     },
     "metadata": {
      "needs_background": "light"
     },
     "output_type": "display_data"
    },
    {
     "name": "stdout",
     "output_type": "stream",
     "text": [
      "bestSample is: 0.9999982612591806\n",
      "Optical Inquisitor 17+ recommanded. Simulation response rating is 4.\n"
     ]
    },
    {
     "data": {
      "image/png": "[encoded data removed]",
      "text/plain": [
       "<Figure size 432x288 with 1 Axes>"
      ]
     },
     "metadata": {
      "needs_background": "light"
     },
     "output_type": "display_data"
    },
    {
     "name": "stdout",
     "output_type": "stream",
     "text": [
      "bestSample is: 0.9999992141529493\n",
      "We Heart It - Fashion, wallpapers, quotes, tattoos recommanded. Simulation response rating is 4.5.\n"
     ]
    },
    {
     "data": {
      "image/png": "[encoded data removed]",
      "text/plain": [
       "<Figure size 432x288 with 1 Axes>"
      ]
     },
     "metadata": {
      "needs_background": "light"
     },
     "output_type": "display_data"
    },
    {
     "name": "stdout",
     "output_type": "stream",
     "text": [
      "bestSample is: 0.9999989603053712\n",
      "NOAA Hi-Def Radar Pro -  Storm Warnings, Hurricane Tracker & Weather Forecast recommanded. Simulation response rating is 3.5.\n"
     ]
    },
    {
     "data": {
      "image/png": "[encoded data removed]",
      "text/plain": [
       "<Figure size 432x288 with 1 Axes>"
      ]
     },
     "metadata": {
      "needs_background": "light"
     },
     "output_type": "display_data"
    },
    {
     "name": "stdout",
     "output_type": "stream",
     "text": [
      "bestSample is: 0.9999997800170082\n",
      "Suрer Toss The Turtle recommanded. Simulation response rating is 5.\n"
     ]
    },
    {
     "data": {
      "image/png": "[encoded data removed]",
      "text/plain": [
       "<Figure size 432x288 with 1 Axes>"
      ]
     },
     "metadata": {
      "needs_background": "light"
     },
     "output_type": "display_data"
    },
    {
     "name": "stdout",
     "output_type": "stream",
     "text": [
      "bestSample is: 0.9999988683157353\n",
      "Egg, Inc. recommanded. Simulation response rating is 4.\n"
     ]
    },
    {
     "data": {
      "image/png": "[encoded data removed]",
      "text/plain": [
       "<Figure size 432x288 with 1 Axes>"
      ]
     },
     "metadata": {
      "needs_background": "light"
     },
     "output_type": "display_data"
    },
    {
     "name": "stdout",
     "output_type": "stream",
     "text": [
      "bestSample is: 0.999999860570617\n",
      "Lewandowski: Football Star recommanded. Simulation response rating is 4.\n"
     ]
    },
    {
     "data": {
      "image/png": "[encoded data removed]",
      "text/plain": [
       "<Figure size 432x288 with 1 Axes>"
      ]
     },
     "metadata": {
      "needs_background": "light"
     },
     "output_type": "display_data"
    },
    {
     "name": "stdout",
     "output_type": "stream",
     "text": [
      "bestSample is: 0.9999989572151395\n",
      "Geometry Dash recommanded. Simulation response rating is 3.\n"
     ]
    },
    {
     "data": {
      "image/png": "[encoded data removed]",
      "text/plain": [
       "<Figure size 432x288 with 1 Axes>"
      ]
     },
     "metadata": {
      "needs_background": "light"
     },
     "output_type": "display_data"
    },
    {
     "name": "stdout",
     "output_type": "stream",
     "text": [
      "bestSample is: 0.9999999603821297\n",
      "Fish Mania™ recommanded. Simulation response rating is 1.5.\n"
     ]
    },
    {
     "data": {
      "image/png": "[encoded data removed]",
      "text/plain": [
       "<Figure size 432x288 with 1 Axes>"
      ]
     },
     "metadata": {
      "needs_background": "light"
     },
     "output_type": "display_data"
    }
   ],
   "source": [
    "def plot(bandit):\n",
    "    x = np.linspace(0, 1, 200)\n",
    "    y = beta.pdf(x, bandit.a, bandit.b)\n",
    "    plt.plot(x, y)\n",
    "    plt.show()\n",
    "    \n",
    "\n",
    "def recommand(ratingResSeq):\n",
    "    for rating in ratingResSeq:\n",
    "        sampleLst = []\n",
    "        bestSample = -1\n",
    "        bestSampleIdx = None\n",
    "        \n",
    "        # Get samples\n",
    "        for idx, bandit in enumerate(bandits):\n",
    "            sample = bandit.sample()\n",
    "            sampleLst.append(sample)\n",
    "\n",
    "            if sample >= bestSample:\n",
    "                bestSampleIdx = idx\n",
    "                bestSample = sample\n",
    "        \n",
    "        # Recommend the best sample\n",
    "        print(\"bestSample is: {}\".format(bestSample))\n",
    "        print(\"{0} recommanded. Simulation response rating is {1}.\".format(\n",
    "            apps.iloc[bestSampleIdx]['track_name'],\n",
    "            rating)\n",
    "        )\n",
    "        plot(bandits[bestSampleIdx])\n",
    "        \n",
    "        # Update the bandit that gives the best sample\n",
    "        reward = bandits[bestSampleIdx].pull(rating / 5)\n",
    "        bandits[bestSampleIdx].update(reward)\n",
    "\n",
    "recommand([3.5, 4, 4, 4.5, 3.5, 5, 4, 4, 3, 1.5])"
   ]
  },
  {
   "cell_type": "markdown",
   "metadata": {},
   "source": [
    "The recommended apps are of either one of the two types:\n",
    "* An app that has average ratings = 5 and has numerous (> 5000) ratings\n",
    "* An app that has 0 ratings, but the random sampling out of the distribution is extremely close to 1 (extremely lucky)."
   ]
  },
  {
   "cell_type": "markdown",
   "metadata": {},
   "source": [
    "# Conclusion"
   ]
  },
  {
   "cell_type": "markdown",
   "metadata": {},
   "source": [
    "The Bayesian Bandit is a popular choice to find the balance in the explore-exploit problem, and in this project, it is shown convenient to be set up on existing ratings, and powerful on recommending items in the future."
   ]
  }
 ],
 "metadata": {
  "kernelspec": {
   "display_name": "Python 3",
   "language": "python",
   "name": "python3"
  },
  "language_info": {
   "codemirror_mode": {
    "name": "ipython",
    "version": 3
   },
   "file_extension": ".py",
   "mimetype": "text/x-python",
   "name": "python",
   "nbconvert_exporter": "python",
   "pygments_lexer": "ipython3",
   "version": "3.7.6"
  }
 },
 "nbformat": 4,
 "nbformat_minor": 4
}
