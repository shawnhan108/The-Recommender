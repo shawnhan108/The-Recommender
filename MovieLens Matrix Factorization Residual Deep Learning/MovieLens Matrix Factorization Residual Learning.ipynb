{
 "cells": [
  {
   "cell_type": "markdown",
   "metadata": {},
   "source": [
    "# Introduction"
   ]
  },
  {
   "cell_type": "markdown",
   "metadata": {},
   "source": [
    "This notebook seeks to implement a recommender, trained on 25% of the [movieLens dataset](https://grouplens.org/datasets/movielens/), to recommend movies to users. The notebook compares the traditional matrix factorization with a residual learning algorithm, to a new, deep learning collaborative filtering architecture described in a new research [*Deep Learning Architecture for Collaborative Filtering Recommender Systems*](https://www.researchgate.net/publication/340416554_Deep_Learning_Architecture_for_Collaborative_Filtering_Recommender_Systems) (DOI: 10.3390/app10072441) by J. Bobadilla, S.Alonso and A. Hernando, published in April 2020. \n",
    "\n",
    "Traditionally, the collaborative filtering (CF) approach can be implemented with residual deep learning as follows: \n",
    "for collaborative filtering/matrix factorization, $MF(x): r_{ij} = w_i \\cdot u_j + b_i + c_j + \\mu$. To explore the non-linear patterns, a feedforward neural network can be integrated to model the residual, that is $NN(x): \\hat{r} - MF(x)$.\n",
    "\n",
    "The deep learning architecture proposed by Bobadilla, Alonso, and Hernando is a Reliability-based Neural Collaborative Filtering (RNCF). In the first stage of the architecture, a traditional matrix factorization (MF) model is first trained on the users, items, and ratings. In the second stage, the mean squared errors (MSE) between the predictions from the MF model and the real ratings in the dataset are used as y-label targets to train a second model -- a multi-layer neural network (MNN) model. That is, this MNN is trained to take latent features of the users and items, then predict the MSEs that will be created by the MF model. In the third (last) stage, a third model, also an MNN, is trained to take latent features of users, items and the estimated error predicted by the second model, and output the predicted rating. Mathematically, \n",
    "* $MF(x): r_{ij} = w_i \\cdot u_j$ (1)\n",
    "* $MNN(x): (w_i, u_j) \\to e_{ij} = (\\hat{r} - MF(x))^2$ (2), and \n",
    "* $MNN_{2}(x): (w_i, u_j, e_{ij}) \\to r$\n",
    "\n",
    "<img src=\"Proposed-RNCF-architecture.png\" alt=\"Proposed-RNCF-architecture.png\" width=\"400\"/>\n",
    "\n",
    "The results have shown that the traditional CF/MF model with residual learning achieves a MSE of 0.65, comparing to the deep learning architecture's 1.11. Factors such as the reduced dataset size and the absense of bias and regularization, etc., may be attributed to this observation."
   ]
  },
  {
   "cell_type": "markdown",
   "metadata": {},
   "source": [
    "# Data Preprocessing"
   ]
  },
  {
   "cell_type": "code",
   "execution_count": 1,
   "metadata": {},
   "outputs": [],
   "source": [
    "import numpy as np\n",
    "import pandas as pd\n",
    "from matplotlib import pyplot as plt\n",
    "import random\n",
    "%matplotlib inline"
   ]
  },
  {
   "cell_type": "code",
   "execution_count": 2,
   "metadata": {},
   "outputs": [
    {
     "data": {
      "text/html": [
       "<div>\n",
       "<style scoped>\n",
       "    .dataframe tbody tr th:only-of-type {\n",
       "        vertical-align: middle;\n",
       "    }\n",
       "\n",
       "    .dataframe tbody tr th {\n",
       "        vertical-align: top;\n",
       "    }\n",
       "\n",
       "    .dataframe thead th {\n",
       "        text-align: right;\n",
       "    }\n",
       "</style>\n",
       "<table border=\"1\" class=\"dataframe\">\n",
       "  <thead>\n",
       "    <tr style=\"text-align: right;\">\n",
       "      <th></th>\n",
       "      <th>userId</th>\n",
       "      <th>movieId</th>\n",
       "      <th>rating</th>\n",
       "    </tr>\n",
       "  </thead>\n",
       "  <tbody>\n",
       "    <tr>\n",
       "      <th>0</th>\n",
       "      <td>1</td>\n",
       "      <td>2</td>\n",
       "      <td>3.5</td>\n",
       "    </tr>\n",
       "    <tr>\n",
       "      <th>1</th>\n",
       "      <td>1</td>\n",
       "      <td>29</td>\n",
       "      <td>3.5</td>\n",
       "    </tr>\n",
       "    <tr>\n",
       "      <th>2</th>\n",
       "      <td>1</td>\n",
       "      <td>32</td>\n",
       "      <td>3.5</td>\n",
       "    </tr>\n",
       "    <tr>\n",
       "      <th>3</th>\n",
       "      <td>1</td>\n",
       "      <td>47</td>\n",
       "      <td>3.5</td>\n",
       "    </tr>\n",
       "    <tr>\n",
       "      <th>4</th>\n",
       "      <td>1</td>\n",
       "      <td>50</td>\n",
       "      <td>3.5</td>\n",
       "    </tr>\n",
       "  </tbody>\n",
       "</table>\n",
       "</div>"
      ],
      "text/plain": [
       "   userId  movieId  rating\n",
       "0       1        2     3.5\n",
       "1       1       29     3.5\n",
       "2       1       32     3.5\n",
       "3       1       47     3.5\n",
       "4       1       50     3.5"
      ]
     },
     "execution_count": 2,
     "metadata": {},
     "output_type": "execute_result"
    }
   ],
   "source": [
    "movieDF = pd.read_csv(\"rating.csv\")\n",
    "movieDF.drop(['timestamp'], axis = 1, inplace = True)\n",
    "movieDF.head(5)"
   ]
  },
  {
   "cell_type": "markdown",
   "metadata": {},
   "source": [
    "Due to the constraint of time and computing power, only 25% of the entire movieLens dataset is used. The ratio used by train-test-split is 75%-25%. "
   ]
  },
  {
   "cell_type": "code",
   "execution_count": 3,
   "metadata": {},
   "outputs": [],
   "source": [
    "from sklearn.utils import shuffle\n",
    "\n",
    "#Train Test split\n",
    "ratio = int(0.25*len(movieDF))\n",
    "movieDF = movieDF.iloc[:ratio]\n",
    "movieDF = shuffle(movieDF)\n",
    "trainSize = int(0.75*len(movieDF))\n",
    "trainDF = movieDF.iloc[:trainSize]\n",
    "testDF = movieDF.iloc[trainSize:]\n",
    "\n",
    "# init\n",
    "userNum = movieDF.userId.max() + 1\n",
    "movieNum = movieDF.movieId.max() + 1\n",
    "K = 15\n",
    "MU = trainDF.rating.mean()\n",
    "EPOCHS = 15\n",
    "REGULAR = 0.1"
   ]
  },
  {
   "cell_type": "markdown",
   "metadata": {},
   "source": [
    "# CF/MF with Residual Learning"
   ]
  },
  {
   "cell_type": "markdown",
   "metadata": {},
   "source": [
    "### Model Definition"
   ]
  },
  {
   "cell_type": "code",
   "execution_count": 4,
   "metadata": {},
   "outputs": [
    {
     "name": "stderr",
     "output_type": "stream",
     "text": [
      "Using TensorFlow backend.\n"
     ]
    },
    {
     "name": "stdout",
     "output_type": "stream",
     "text": [
      "WARNING:tensorflow:From /Users/yushuohan/opt/anaconda3/lib/python3.7/site-packages/tensorflow_core/python/ops/resource_variable_ops.py:1630: calling BaseResourceVariable.__init__ (from tensorflow.python.ops.resource_variable_ops) with constraint is deprecated and will be removed in a future version.\n",
      "Instructions for updating:\n",
      "If using Keras pass *_constraint arguments to layers.\n"
     ]
    }
   ],
   "source": [
    "from keras.layers import Input, Embedding, Dense, Flatten, Concatenate, Add, Dot, Dropout, BatchNormalization, Activation\n",
    "from keras.models import Model\n",
    "from keras.optimizers import Adam, SGD\n",
    "\n",
    "# input\n",
    "userInput = Input(shape=(1,))\n",
    "movieInput = Input(shape=(1,))\n",
    "\n",
    "# Matrix Factorization\n",
    "# Since userNum < movieNum, we have userNum = batchsize\n",
    "userEmbedding = Embedding(userNum, K)(userInput) # bsize x 1 x k\n",
    "movieEmbedding = Embedding(movieNum, K)(movieInput) # bsize x 1 x k\n",
    "userBias = Embedding(userNum, 1)(userInput) # bsize x 1 x 1\n",
    "movieBias = Embedding(movieNum, 1)(movieInput) # bsize x 1 x 1\n",
    "model = Dot(axes=2)([userEmbedding, movieEmbedding]) # bsize x 1 x 1\n",
    "model = Add()([model, userBias, movieBias])\n",
    "model = Flatten()(model) # bsize x 1\n",
    "\n",
    "# Residual\n",
    "userEmbeddingFlat = Flatten()(userEmbedding) # bsize x k\n",
    "movieEmbeddingFlat = Flatten()(movieEmbedding) # bsize x k\n",
    "residual = Concatenate()([userEmbeddingFlat, movieEmbeddingFlat]) # bsize x 2k\n",
    "residual = Dense(512)(residual)\n",
    "residual = Activation('elu')(residual)\n",
    "residual = Dense(1)(residual)\n",
    "\n",
    "# Together\n",
    "model = Add()([model, residual])\n",
    "model = Model(inputs=[userInput, movieInput], outputs=model)\n",
    "model.compile(\n",
    "    loss='mse',\n",
    "    optimizer=SGD(lr=0.08, momentum=0.9),\n",
    "    metrics=['mse']\n",
    ")"
   ]
  },
  {
   "cell_type": "markdown",
   "metadata": {},
   "source": [
    "### Training"
   ]
  },
  {
   "cell_type": "code",
   "execution_count": 5,
   "metadata": {},
   "outputs": [
    {
     "name": "stdout",
     "output_type": "stream",
     "text": [
      "WARNING:tensorflow:From /Users/yushuohan/opt/anaconda3/lib/python3.7/site-packages/keras/backend/tensorflow_backend.py:422: The name tf.global_variables is deprecated. Please use tf.compat.v1.global_variables instead.\n",
      "\n",
      "Train on 3750048 samples, validate on 1250017 samples\n",
      "Epoch 1/15\n",
      "3750048/3750048 [==============================] - 338s 90us/step - loss: 0.7744 - mse: 0.7744 - val_loss: 0.7291 - val_mse: 0.7291\n",
      "Epoch 2/15\n",
      "3750048/3750048 [==============================] - 337s 90us/step - loss: 0.7159 - mse: 0.7159 - val_loss: 0.7350 - val_mse: 0.7350\n",
      "Epoch 3/15\n",
      "3750048/3750048 [==============================] - 333s 89us/step - loss: 0.6971 - mse: 0.6971 - val_loss: 0.7072 - val_mse: 0.7072\n",
      "Epoch 4/15\n",
      "3750048/3750048 [==============================] - 342s 91us/step - loss: 0.6729 - mse: 0.6729 - val_loss: 0.6814 - val_mse: 0.6814\n",
      "Epoch 5/15\n",
      "3750048/3750048 [==============================] - 378s 101us/step - loss: 0.6406 - mse: 0.6406 - val_loss: 0.6640 - val_mse: 0.6640\n",
      "Epoch 6/15\n",
      "3750048/3750048 [==============================] - 453s 121us/step - loss: 0.6103 - mse: 0.6103 - val_loss: 0.6618 - val_mse: 0.6618\n",
      "Epoch 7/15\n",
      "3750048/3750048 [==============================] - 473s 126us/step - loss: 0.5865 - mse: 0.5865 - val_loss: 0.6496 - val_mse: 0.6496\n",
      "Epoch 8/15\n",
      "3750048/3750048 [==============================] - 460s 123us/step - loss: 0.5685 - mse: 0.5685 - val_loss: 0.6504 - val_mse: 0.6504\n",
      "Epoch 9/15\n",
      "3750048/3750048 [==============================] - 382s 102us/step - loss: 0.5544 - mse: 0.5544 - val_loss: 0.6476 - val_mse: 0.6476\n",
      "Epoch 10/15\n",
      "3750048/3750048 [==============================] - 352s 94us/step - loss: 0.5431 - mse: 0.5431 - val_loss: 0.6526 - val_mse: 0.6526\n",
      "Epoch 11/15\n",
      "3750048/3750048 [==============================] - 349s 93us/step - loss: 0.5342 - mse: 0.5342 - val_loss: 0.6494 - val_mse: 0.6494\n",
      "Epoch 12/15\n",
      "3750048/3750048 [==============================] - 350s 93us/step - loss: 0.5265 - mse: 0.5265 - val_loss: 0.6575 - val_mse: 0.6575\n",
      "Epoch 13/15\n",
      "3750048/3750048 [==============================] - 353s 94us/step - loss: 0.5198 - mse: 0.5198 - val_loss: 0.6476 - val_mse: 0.6476\n",
      "Epoch 14/15\n",
      "3750048/3750048 [==============================] - 351s 94us/step - loss: 0.5144 - mse: 0.5144 - val_loss: 0.6527 - val_mse: 0.6527\n",
      "Epoch 15/15\n",
      "3750048/3750048 [==============================] - 350s 93us/step - loss: 0.5095 - mse: 0.5095 - val_loss: 0.6528 - val_mse: 0.6528\n"
     ]
    }
   ],
   "source": [
    "history = model.fit(\n",
    "    x=[trainDF.userId.values, trainDF.movieId.values],\n",
    "    y=trainDF.rating.values - MU,\n",
    "    epochs=EPOCHS,\n",
    "    batch_size=128,\n",
    "    validation_data=(\n",
    "        [testDF.userId.values, testDF.movieId.values],\n",
    "        testDF.rating.values - MU\n",
    "    )\n",
    ")"
   ]
  },
  {
   "cell_type": "code",
   "execution_count": 6,
   "metadata": {},
   "outputs": [
    {
     "data": {
      "image/png": "[encoded data removed]",
      "text/plain": [
       "<Figure size 432x288 with 1 Axes>"
      ]
     },
     "metadata": {
      "needs_background": "light"
     },
     "output_type": "display_data"
    },
    {
     "data": {
      "image/png": "[encoded data removed]",
      "text/plain": [
       "<Figure size 432x288 with 1 Axes>"
      ]
     },
     "metadata": {
      "needs_background": "light"
     },
     "output_type": "display_data"
    }
   ],
   "source": [
    "model.save(\"movieLensRecommender_res.h5\")\n",
    "\n",
    "def plot(history):\n",
    "    plt.plot(history.history['loss'], label=\"train loss\")\n",
    "    plt.plot(history.history['val_loss'], label=\"validation loss\")\n",
    "    plt.legend()\n",
    "    plt.show()\n",
    "    \n",
    "    plt.plot(history.history['mse'], label=\"train mse\")\n",
    "    plt.plot(history.history['val_mse'], label=\"validation mse\")\n",
    "    plt.legend()\n",
    "    plt.show()\n",
    "    \n",
    "plot(history)"
   ]
  },
  {
   "cell_type": "markdown",
   "metadata": {},
   "source": [
    "### Sample Inference"
   ]
  },
  {
   "cell_type": "code",
   "execution_count": 7,
   "metadata": {},
   "outputs": [
    {
     "name": "stdout",
     "output_type": "stream",
     "text": [
      "(Predicted Rating, Real Rating): (3.9147259311229496, 4.0)\n",
      "(Predicted Rating, Real Rating): (3.783999176457575, 3.5)\n",
      "(Predicted Rating, Real Rating): (4.751980812981776, 5.0)\n",
      "(Predicted Rating, Real Rating): (3.6924745456725865, 3.5)\n",
      "(Predicted Rating, Real Rating): (3.7110037223846226, 5.0)\n",
      "(Predicted Rating, Real Rating): (4.616799505189112, 5.0)\n",
      "(Predicted Rating, Real Rating): (2.565714390710047, 3.0)\n",
      "(Predicted Rating, Real Rating): (2.430528910592249, 3.5)\n",
      "(Predicted Rating, Real Rating): (4.06956151290243, 4.0)\n",
      "(Predicted Rating, Real Rating): (3.70680299563711, 0.5)\n",
      "(Predicted Rating, Real Rating): (3.142650456860712, 3.0)\n",
      "(Predicted Rating, Real Rating): (4.06136956973379, 5.0)\n",
      "(Predicted Rating, Real Rating): (3.691233725979975, 3.5)\n",
      "(Predicted Rating, Real Rating): (4.683683784440211, 5.0)\n",
      "(Predicted Rating, Real Rating): (4.001659901574305, 3.5)\n",
      "(Predicted Rating, Real Rating): (2.058595807984522, 1.0)\n",
      "(Predicted Rating, Real Rating): (3.2210759834796696, 4.0)\n",
      "(Predicted Rating, Real Rating): (3.3304352031499653, 3.0)\n",
      "(Predicted Rating, Real Rating): (3.424174325302294, 4.0)\n",
      "(Predicted Rating, Real Rating): (3.1532597856075077, 3.0)\n"
     ]
    }
   ],
   "source": [
    "def predictRating0(num):\n",
    "    result = model.predict([[movieDF.iloc[num].userId], [movieDF.iloc[num].movieId]])\n",
    "    result = result[0][0] + MU\n",
    "    print(\"(Predicted Rating, Real Rating): ({0}, {1})\".format(result, movieDF.iloc[num].rating))\n",
    "\n",
    "def test0(times):\n",
    "    top = len(movieDF) - 1\n",
    "    for _ in range(times):\n",
    "        num = random.randint(0, top)\n",
    "        predictRating0(num)\n",
    "\n",
    "test0(20)"
   ]
  },
  {
   "cell_type": "markdown",
   "metadata": {},
   "source": [
    "# Deep Learning RNCF"
   ]
  },
  {
   "cell_type": "markdown",
   "metadata": {},
   "source": [
    "## Model 1: MF"
   ]
  },
  {
   "cell_type": "code",
   "execution_count": 8,
   "metadata": {},
   "outputs": [],
   "source": [
    "# input\n",
    "userInput = Input(shape=(1,))\n",
    "movieInput = Input(shape=(1,))\n",
    "\n",
    "# Matrix Factorization\n",
    "# Since userNum < movieNum, we have userNum = batchsize\n",
    "userEmbedding = Embedding(userNum, K)(userInput) # bsize x 1 x k\n",
    "movieEmbedding = Embedding(movieNum, K)(movieInput) # bsize x 1 x k\n",
    "userBias = Embedding(userNum, 1)(userInput) # bsize x 1 x 1\n",
    "movieBias = Embedding(movieNum, 1)(movieInput) # bsize x 1 x 1\n",
    "model1 = Dot(axes=2)([userEmbedding, movieEmbedding]) # bsize x 1 x 1\n",
    "model1 = Add()([model1, userBias, movieBias])\n",
    "model1 = Flatten()(model1) # bsize x 1\n",
    "\n",
    "# Together\n",
    "model1 = Model(inputs=[userInput, movieInput], outputs=model1)\n",
    "model1.compile(\n",
    "    loss='mse',\n",
    "    optimizer=SGD(lr=0.08, momentum=0.9),\n",
    "    metrics=['mse']\n",
    ")"
   ]
  },
  {
   "cell_type": "code",
   "execution_count": 9,
   "metadata": {},
   "outputs": [
    {
     "name": "stdout",
     "output_type": "stream",
     "text": [
      "Train on 3750048 samples, validate on 1250017 samples\n",
      "Epoch 1/15\n",
      "3750048/3750048 [==============================] - 300s 80us/step - loss: 0.8030 - mse: 0.8030 - val_loss: 0.7627 - val_mse: 0.7627\n",
      "Epoch 2/15\n",
      "3750048/3750048 [==============================] - 302s 81us/step - loss: 0.7483 - mse: 0.7483 - val_loss: 0.7477 - val_mse: 0.7477\n",
      "Epoch 3/15\n",
      "3750048/3750048 [==============================] - 342s 91us/step - loss: 0.7238 - mse: 0.7238 - val_loss: 0.7177 - val_mse: 0.7177\n",
      "Epoch 4/15\n",
      "3750048/3750048 [==============================] - 303s 81us/step - loss: 0.6816 - mse: 0.6816 - val_loss: 0.6867 - val_mse: 0.6867\n",
      "Epoch 5/15\n",
      "3750048/3750048 [==============================] - 345s 92us/step - loss: 0.6405 - mse: 0.6405 - val_loss: 0.6667 - val_mse: 0.6667\n",
      "Epoch 6/15\n",
      "3750048/3750048 [==============================] - 339s 90us/step - loss: 0.6063 - mse: 0.6063 - val_loss: 0.6561 - val_mse: 0.6561\n",
      "Epoch 7/15\n",
      "3750048/3750048 [==============================] - 346s 92us/step - loss: 0.5810 - mse: 0.5809 - val_loss: 0.6515 - val_mse: 0.6515\n",
      "Epoch 8/15\n",
      "3750048/3750048 [==============================] - 339s 90us/step - loss: 0.5625 - mse: 0.5625 - val_loss: 0.6489 - val_mse: 0.6489\n",
      "Epoch 9/15\n",
      "3750048/3750048 [==============================] - 345s 92us/step - loss: 0.5486 - mse: 0.5486 - val_loss: 0.6480 - val_mse: 0.6480\n",
      "Epoch 10/15\n",
      "3750048/3750048 [==============================] - 338s 90us/step - loss: 0.5377 - mse: 0.5377 - val_loss: 0.6480 - val_mse: 0.6480\n",
      "Epoch 11/15\n",
      "3750048/3750048 [==============================] - 345s 92us/step - loss: 0.5289 - mse: 0.5289 - val_loss: 0.6474 - val_mse: 0.6474\n",
      "Epoch 12/15\n",
      "3750048/3750048 [==============================] - 337s 90us/step - loss: 0.5215 - mse: 0.5215 - val_loss: 0.6486 - val_mse: 0.6486\n",
      "Epoch 13/15\n",
      "3750048/3750048 [==============================] - 332s 88us/step - loss: 0.5153 - mse: 0.5153 - val_loss: 0.6499 - val_mse: 0.6499\n",
      "Epoch 14/15\n",
      "3750048/3750048 [==============================] - 337s 90us/step - loss: 0.5099 - mse: 0.5099 - val_loss: 0.6502 - val_mse: 0.6502\n",
      "Epoch 15/15\n",
      "3750048/3750048 [==============================] - 347s 92us/step - loss: 0.5053 - mse: 0.5053 - val_loss: 0.6515 - val_mse: 0.6515\n"
     ]
    }
   ],
   "source": [
    "history1 = model1.fit(\n",
    "    x=[trainDF.userId.values, trainDF.movieId.values],\n",
    "    y=trainDF.rating.values - MU,\n",
    "    epochs=EPOCHS,\n",
    "    batch_size=128,\n",
    "    validation_data=(\n",
    "        [testDF.userId.values, testDF.movieId.values],\n",
    "        testDF.rating.values - MU\n",
    "    )\n",
    ")"
   ]
  },
  {
   "cell_type": "code",
   "execution_count": 10,
   "metadata": {},
   "outputs": [
    {
     "data": {
      "image/png": "[encoded data removed]",
      "text/plain": [
       "<Figure size 432x288 with 1 Axes>"
      ]
     },
     "metadata": {
      "needs_background": "light"
     },
     "output_type": "display_data"
    },
    {
     "data": {
      "image/png": "[encoded data removed]",
      "text/plain": [
       "<Figure size 432x288 with 1 Axes>"
      ]
     },
     "metadata": {
      "needs_background": "light"
     },
     "output_type": "display_data"
    }
   ],
   "source": [
    "model1.save(\"movieLensRecommender_rncf1.h5\")\n",
    "plot(history1)"
   ]
  },
  {
   "cell_type": "markdown",
   "metadata": {},
   "source": [
    "Inference on all data using model1 to create predicted ratings as the training input for the second model."
   ]
  },
  {
   "cell_type": "code",
   "execution_count": 11,
   "metadata": {},
   "outputs": [],
   "source": [
    "errors = []\n",
    "\n",
    "for index, row in movieDF.iterrows():\n",
    "    pred = model1.predict([[row.userId], [row.movieId]])\n",
    "    pred = pred[0][0]\n",
    "    mse = (row.rating - pred)**2\n",
    "    errors.append(mse)"
   ]
  },
  {
   "cell_type": "code",
   "execution_count": 12,
   "metadata": {},
   "outputs": [
    {
     "data": {
      "text/html": [
       "<div>\n",
       "<style scoped>\n",
       "    .dataframe tbody tr th:only-of-type {\n",
       "        vertical-align: middle;\n",
       "    }\n",
       "\n",
       "    .dataframe tbody tr th {\n",
       "        vertical-align: top;\n",
       "    }\n",
       "\n",
       "    .dataframe thead th {\n",
       "        text-align: right;\n",
       "    }\n",
       "</style>\n",
       "<table border=\"1\" class=\"dataframe\">\n",
       "  <thead>\n",
       "    <tr style=\"text-align: right;\">\n",
       "      <th></th>\n",
       "      <th>userId</th>\n",
       "      <th>movieId</th>\n",
       "      <th>rating</th>\n",
       "      <th>error</th>\n",
       "    </tr>\n",
       "  </thead>\n",
       "  <tbody>\n",
       "    <tr>\n",
       "      <th>445628</th>\n",
       "      <td>3031</td>\n",
       "      <td>2700</td>\n",
       "      <td>3.5</td>\n",
       "      <td>11.714023</td>\n",
       "    </tr>\n",
       "    <tr>\n",
       "      <th>300498</th>\n",
       "      <td>2062</td>\n",
       "      <td>457</td>\n",
       "      <td>4.0</td>\n",
       "      <td>10.846396</td>\n",
       "    </tr>\n",
       "    <tr>\n",
       "      <th>1810055</th>\n",
       "      <td>12208</td>\n",
       "      <td>2640</td>\n",
       "      <td>3.0</td>\n",
       "      <td>9.672417</td>\n",
       "    </tr>\n",
       "    <tr>\n",
       "      <th>862730</th>\n",
       "      <td>5768</td>\n",
       "      <td>2117</td>\n",
       "      <td>3.5</td>\n",
       "      <td>15.864624</td>\n",
       "    </tr>\n",
       "    <tr>\n",
       "      <th>3318896</th>\n",
       "      <td>22688</td>\n",
       "      <td>3825</td>\n",
       "      <td>2.5</td>\n",
       "      <td>12.129237</td>\n",
       "    </tr>\n",
       "  </tbody>\n",
       "</table>\n",
       "</div>"
      ],
      "text/plain": [
       "         userId  movieId  rating      error\n",
       "445628     3031     2700     3.5  11.714023\n",
       "300498     2062      457     4.0  10.846396\n",
       "1810055   12208     2640     3.0   9.672417\n",
       "862730     5768     2117     3.5  15.864624\n",
       "3318896   22688     3825     2.5  12.129237"
      ]
     },
     "execution_count": 12,
     "metadata": {},
     "output_type": "execute_result"
    }
   ],
   "source": [
    "movieDF['error'] = errors\n",
    "movieDF.head(5)"
   ]
  },
  {
   "cell_type": "markdown",
   "metadata": {},
   "source": [
    "## Model 2: Reliability MNN"
   ]
  },
  {
   "cell_type": "code",
   "execution_count": 13,
   "metadata": {},
   "outputs": [],
   "source": [
    "userInput = Input(shape=(1,))\n",
    "movieInput = Input(shape=(1,))\n",
    "userEmbedding = Embedding(userNum, K)(userInput)\n",
    "movieEmbedding = Embedding(movieNum, K)(movieInput)\n",
    "userEmbeddingFlat = Flatten()(userEmbedding) # bsize x k\n",
    "movieEmbeddingFlat = Flatten()(movieEmbedding) # bsize x k\n",
    "model2 = Concatenate()([userEmbeddingFlat, movieEmbeddingFlat])\n",
    "model2 = Dense(512)(model2)\n",
    "model2 = Dense(256)(model2)\n",
    "model2 = Dense(256)(model2)\n",
    "model2 = Activation('elu')(model2)\n",
    "model2 = Dense(1)(model2)\n",
    "\n",
    "model2 = Model(inputs=[userInput, movieInput], outputs=model2)\n",
    "model2.compile(\n",
    "    loss='mse',\n",
    "    optimizer=Adam(lr=0.01),\n",
    "    metrics=['mse']\n",
    ")"
   ]
  },
  {
   "cell_type": "markdown",
   "metadata": {},
   "source": [
    "Re-perform train-test-split using the updated movieLens dataset with the rating error."
   ]
  },
  {
   "cell_type": "code",
   "execution_count": 14,
   "metadata": {},
   "outputs": [
    {
     "data": {
      "text/html": [
       "<div>\n",
       "<style scoped>\n",
       "    .dataframe tbody tr th:only-of-type {\n",
       "        vertical-align: middle;\n",
       "    }\n",
       "\n",
       "    .dataframe tbody tr th {\n",
       "        vertical-align: top;\n",
       "    }\n",
       "\n",
       "    .dataframe thead th {\n",
       "        text-align: right;\n",
       "    }\n",
       "</style>\n",
       "<table border=\"1\" class=\"dataframe\">\n",
       "  <thead>\n",
       "    <tr style=\"text-align: right;\">\n",
       "      <th></th>\n",
       "      <th>userId</th>\n",
       "      <th>movieId</th>\n",
       "      <th>rating</th>\n",
       "      <th>error</th>\n",
       "    </tr>\n",
       "  </thead>\n",
       "  <tbody>\n",
       "    <tr>\n",
       "      <th>445628</th>\n",
       "      <td>3031</td>\n",
       "      <td>2700</td>\n",
       "      <td>3.5</td>\n",
       "      <td>11.714023</td>\n",
       "    </tr>\n",
       "    <tr>\n",
       "      <th>300498</th>\n",
       "      <td>2062</td>\n",
       "      <td>457</td>\n",
       "      <td>4.0</td>\n",
       "      <td>10.846396</td>\n",
       "    </tr>\n",
       "    <tr>\n",
       "      <th>1810055</th>\n",
       "      <td>12208</td>\n",
       "      <td>2640</td>\n",
       "      <td>3.0</td>\n",
       "      <td>9.672417</td>\n",
       "    </tr>\n",
       "    <tr>\n",
       "      <th>862730</th>\n",
       "      <td>5768</td>\n",
       "      <td>2117</td>\n",
       "      <td>3.5</td>\n",
       "      <td>15.864624</td>\n",
       "    </tr>\n",
       "    <tr>\n",
       "      <th>3318896</th>\n",
       "      <td>22688</td>\n",
       "      <td>3825</td>\n",
       "      <td>2.5</td>\n",
       "      <td>12.129237</td>\n",
       "    </tr>\n",
       "  </tbody>\n",
       "</table>\n",
       "</div>"
      ],
      "text/plain": [
       "         userId  movieId  rating      error\n",
       "445628     3031     2700     3.5  11.714023\n",
       "300498     2062      457     4.0  10.846396\n",
       "1810055   12208     2640     3.0   9.672417\n",
       "862730     5768     2117     3.5  15.864624\n",
       "3318896   22688     3825     2.5  12.129237"
      ]
     },
     "execution_count": 14,
     "metadata": {},
     "output_type": "execute_result"
    }
   ],
   "source": [
    "trainSize = int(0.75*len(movieDF))\n",
    "trainDF = movieDF.iloc[:trainSize]\n",
    "testDF = movieDF.iloc[trainSize:]\n",
    "trainDF.head(5)"
   ]
  },
  {
   "cell_type": "code",
   "execution_count": 15,
   "metadata": {},
   "outputs": [
    {
     "name": "stdout",
     "output_type": "stream",
     "text": [
      "Train on 3750048 samples, validate on 1250017 samples\n",
      "Epoch 1/15\n",
      "3750048/3750048 [==============================] - 873s 233us/step - loss: 34.1746 - mse: 34.1746 - val_loss: 33.8165 - val_mse: 33.8165\n",
      "Epoch 2/15\n",
      "3750048/3750048 [==============================] - 874s 233us/step - loss: 35.3529 - mse: 35.3531 - val_loss: 30.6076 - val_mse: 30.6076\n",
      "Epoch 3/15\n",
      "3750048/3750048 [==============================] - 872s 233us/step - loss: 22.6777 - mse: 22.6776 - val_loss: 31.0549 - val_mse: 31.0549\n",
      "Epoch 4/15\n",
      "3750048/3750048 [==============================] - 871s 232us/step - loss: 22.6734 - mse: 22.6733 - val_loss: 30.6317 - val_mse: 30.6317\n",
      "Epoch 5/15\n",
      "3750048/3750048 [==============================] - 872s 233us/step - loss: 22.6713 - mse: 22.6713 - val_loss: 30.3925 - val_mse: 30.3924\n",
      "Epoch 6/15\n",
      "3750048/3750048 [==============================] - 872s 232us/step - loss: 22.6750 - mse: 22.6750 - val_loss: 30.4452 - val_mse: 30.4452\n",
      "Epoch 7/15\n",
      "3750048/3750048 [==============================] - 872s 233us/step - loss: 22.6711 - mse: 22.6710 - val_loss: 30.4486 - val_mse: 30.4486\n",
      "Epoch 8/15\n",
      "3750048/3750048 [==============================] - 873s 233us/step - loss: 22.6703 - mse: 22.6702 - val_loss: 30.5937 - val_mse: 30.5937\n",
      "Epoch 9/15\n",
      "3750048/3750048 [==============================] - 874s 233us/step - loss: 22.6643 - mse: 22.6643 - val_loss: 30.9838 - val_mse: 30.9839\n",
      "Epoch 10/15\n",
      "3750048/3750048 [==============================] - 872s 233us/step - loss: 22.6685 - mse: 22.6684 - val_loss: 30.5852 - val_mse: 30.5852\n",
      "Epoch 11/15\n",
      "3750048/3750048 [==============================] - 874s 233us/step - loss: 22.6631 - mse: 22.6631 - val_loss: 30.4671 - val_mse: 30.4671\n",
      "Epoch 12/15\n",
      "3750048/3750048 [==============================] - 873s 233us/step - loss: 22.6650 - mse: 22.6651 - val_loss: 31.2042 - val_mse: 31.2042\n",
      "Epoch 13/15\n",
      "3750048/3750048 [==============================] - 873s 233us/step - loss: 22.6663 - mse: 22.6664 - val_loss: 30.4028 - val_mse: 30.4029\n",
      "Epoch 14/15\n",
      "3750048/3750048 [==============================] - 874s 233us/step - loss: 22.6656 - mse: 22.6655 - val_loss: 30.4030 - val_mse: 30.4031\n",
      "Epoch 15/15\n",
      "3750048/3750048 [==============================] - 876s 233us/step - loss: 22.6719 - mse: 22.6720 - val_loss: 31.3345 - val_mse: 31.3345\n"
     ]
    }
   ],
   "source": [
    "history2 = model2.fit(\n",
    "    x=[trainDF.userId.values, trainDF.movieId.values],\n",
    "    y=trainDF.error.values,\n",
    "    epochs=15,\n",
    "    batch_size=128,\n",
    "    validation_data=(\n",
    "        [testDF.userId.values, testDF.movieId.values],\n",
    "        testDF.error.values\n",
    "    )\n",
    ")"
   ]
  },
  {
   "cell_type": "code",
   "execution_count": 16,
   "metadata": {},
   "outputs": [
    {
     "data": {
      "image/png": "[encoded data removed]",
      "text/plain": [
       "<Figure size 432x288 with 1 Axes>"
      ]
     },
     "metadata": {
      "needs_background": "light"
     },
     "output_type": "display_data"
    },
    {
     "data": {
      "image/png": "[encoded data removed]",
      "text/plain": [
       "<Figure size 432x288 with 1 Axes>"
      ]
     },
     "metadata": {
      "needs_background": "light"
     },
     "output_type": "display_data"
    }
   ],
   "source": [
    "model2.save(\"movieLensRecommender_rncf2.h5\")\n",
    "plot(history2)"
   ]
  },
  {
   "cell_type": "markdown",
   "metadata": {},
   "source": [
    "Again, inference on all data using model2 to create predicted errors as the training input for the third model."
   ]
  },
  {
   "cell_type": "code",
   "execution_count": 17,
   "metadata": {},
   "outputs": [],
   "source": [
    "pred_errors = []\n",
    "\n",
    "for index, row in movieDF.iterrows():\n",
    "    pred = model2.predict([[row.userId], [row.movieId]])\n",
    "    pred = pred[0][0]\n",
    "    pred_errors.append(pred)"
   ]
  },
  {
   "cell_type": "code",
   "execution_count": 18,
   "metadata": {},
   "outputs": [
    {
     "data": {
      "text/html": [
       "<div>\n",
       "<style scoped>\n",
       "    .dataframe tbody tr th:only-of-type {\n",
       "        vertical-align: middle;\n",
       "    }\n",
       "\n",
       "    .dataframe tbody tr th {\n",
       "        vertical-align: top;\n",
       "    }\n",
       "\n",
       "    .dataframe thead th {\n",
       "        text-align: right;\n",
       "    }\n",
       "</style>\n",
       "<table border=\"1\" class=\"dataframe\">\n",
       "  <thead>\n",
       "    <tr style=\"text-align: right;\">\n",
       "      <th></th>\n",
       "      <th>userId</th>\n",
       "      <th>movieId</th>\n",
       "      <th>rating</th>\n",
       "      <th>error</th>\n",
       "      <th>pred_error</th>\n",
       "    </tr>\n",
       "  </thead>\n",
       "  <tbody>\n",
       "    <tr>\n",
       "      <th>445628</th>\n",
       "      <td>3031</td>\n",
       "      <td>2700</td>\n",
       "      <td>3.5</td>\n",
       "      <td>11.714023</td>\n",
       "      <td>12.043268</td>\n",
       "    </tr>\n",
       "    <tr>\n",
       "      <th>300498</th>\n",
       "      <td>2062</td>\n",
       "      <td>457</td>\n",
       "      <td>4.0</td>\n",
       "      <td>10.846396</td>\n",
       "      <td>12.043268</td>\n",
       "    </tr>\n",
       "    <tr>\n",
       "      <th>1810055</th>\n",
       "      <td>12208</td>\n",
       "      <td>2640</td>\n",
       "      <td>3.0</td>\n",
       "      <td>9.672417</td>\n",
       "      <td>12.043268</td>\n",
       "    </tr>\n",
       "    <tr>\n",
       "      <th>862730</th>\n",
       "      <td>5768</td>\n",
       "      <td>2117</td>\n",
       "      <td>3.5</td>\n",
       "      <td>15.864624</td>\n",
       "      <td>12.043268</td>\n",
       "    </tr>\n",
       "    <tr>\n",
       "      <th>3318896</th>\n",
       "      <td>22688</td>\n",
       "      <td>3825</td>\n",
       "      <td>2.5</td>\n",
       "      <td>12.129237</td>\n",
       "      <td>12.043268</td>\n",
       "    </tr>\n",
       "  </tbody>\n",
       "</table>\n",
       "</div>"
      ],
      "text/plain": [
       "         userId  movieId  rating      error  pred_error\n",
       "445628     3031     2700     3.5  11.714023   12.043268\n",
       "300498     2062      457     4.0  10.846396   12.043268\n",
       "1810055   12208     2640     3.0   9.672417   12.043268\n",
       "862730     5768     2117     3.5  15.864624   12.043268\n",
       "3318896   22688     3825     2.5  12.129237   12.043268"
      ]
     },
     "execution_count": 18,
     "metadata": {},
     "output_type": "execute_result"
    }
   ],
   "source": [
    "movieDF['pred_error'] = pred_errors\n",
    "movieDF.head(5)"
   ]
  },
  {
   "cell_type": "markdown",
   "metadata": {},
   "source": [
    "## Model 3: Inference MNN"
   ]
  },
  {
   "cell_type": "code",
   "execution_count": 19,
   "metadata": {},
   "outputs": [],
   "source": [
    "userInput = Input(shape=(1,))\n",
    "movieInput = Input(shape=(1,))\n",
    "predErrorInput = Input(shape=(1,)) # bsize x 1\n",
    "userEmbedding = Embedding(userNum, K)(userInput)\n",
    "movieEmbedding = Embedding(movieNum, K)(movieInput)\n",
    "userEmbeddingFlat = Flatten()(userEmbedding) # bsize x k\n",
    "movieEmbeddingFlat = Flatten()(movieEmbedding) # bsize x k\n",
    "model3 = Concatenate()([userEmbeddingFlat, movieEmbeddingFlat, predErrorInput]) # bsize x (2k+1)\n",
    "model3 = Dense(512)(model3)\n",
    "model3 = Dense(256)(model3)\n",
    "model3 = Dense(256)(model3)\n",
    "model3 = Activation('elu')(model3)\n",
    "model3 = Dense(1)(model3)\n",
    "\n",
    "model3 = Model(inputs=[userInput, movieInput, predErrorInput], outputs=model3)\n",
    "model3.compile(\n",
    "    loss='mse',\n",
    "    optimizer=Adam(lr=0.01),\n",
    "    metrics=['mse']\n",
    ")"
   ]
  },
  {
   "cell_type": "markdown",
   "metadata": {},
   "source": [
    "Again, re-perform train-test-split using the updated movieLens dataset with the predicted error."
   ]
  },
  {
   "cell_type": "code",
   "execution_count": 20,
   "metadata": {},
   "outputs": [
    {
     "data": {
      "text/html": [
       "<div>\n",
       "<style scoped>\n",
       "    .dataframe tbody tr th:only-of-type {\n",
       "        vertical-align: middle;\n",
       "    }\n",
       "\n",
       "    .dataframe tbody tr th {\n",
       "        vertical-align: top;\n",
       "    }\n",
       "\n",
       "    .dataframe thead th {\n",
       "        text-align: right;\n",
       "    }\n",
       "</style>\n",
       "<table border=\"1\" class=\"dataframe\">\n",
       "  <thead>\n",
       "    <tr style=\"text-align: right;\">\n",
       "      <th></th>\n",
       "      <th>userId</th>\n",
       "      <th>movieId</th>\n",
       "      <th>rating</th>\n",
       "      <th>error</th>\n",
       "      <th>pred_error</th>\n",
       "    </tr>\n",
       "  </thead>\n",
       "  <tbody>\n",
       "    <tr>\n",
       "      <th>445628</th>\n",
       "      <td>3031</td>\n",
       "      <td>2700</td>\n",
       "      <td>3.5</td>\n",
       "      <td>11.714023</td>\n",
       "      <td>12.043268</td>\n",
       "    </tr>\n",
       "    <tr>\n",
       "      <th>300498</th>\n",
       "      <td>2062</td>\n",
       "      <td>457</td>\n",
       "      <td>4.0</td>\n",
       "      <td>10.846396</td>\n",
       "      <td>12.043268</td>\n",
       "    </tr>\n",
       "    <tr>\n",
       "      <th>1810055</th>\n",
       "      <td>12208</td>\n",
       "      <td>2640</td>\n",
       "      <td>3.0</td>\n",
       "      <td>9.672417</td>\n",
       "      <td>12.043268</td>\n",
       "    </tr>\n",
       "    <tr>\n",
       "      <th>862730</th>\n",
       "      <td>5768</td>\n",
       "      <td>2117</td>\n",
       "      <td>3.5</td>\n",
       "      <td>15.864624</td>\n",
       "      <td>12.043268</td>\n",
       "    </tr>\n",
       "    <tr>\n",
       "      <th>3318896</th>\n",
       "      <td>22688</td>\n",
       "      <td>3825</td>\n",
       "      <td>2.5</td>\n",
       "      <td>12.129237</td>\n",
       "      <td>12.043268</td>\n",
       "    </tr>\n",
       "  </tbody>\n",
       "</table>\n",
       "</div>"
      ],
      "text/plain": [
       "         userId  movieId  rating      error  pred_error\n",
       "445628     3031     2700     3.5  11.714023   12.043268\n",
       "300498     2062      457     4.0  10.846396   12.043268\n",
       "1810055   12208     2640     3.0   9.672417   12.043268\n",
       "862730     5768     2117     3.5  15.864624   12.043268\n",
       "3318896   22688     3825     2.5  12.129237   12.043268"
      ]
     },
     "execution_count": 20,
     "metadata": {},
     "output_type": "execute_result"
    }
   ],
   "source": [
    "trainSize = int(0.75*len(movieDF))\n",
    "trainDF = movieDF.iloc[:trainSize]\n",
    "testDF = movieDF.iloc[trainSize:]\n",
    "trainDF.head(5)"
   ]
  },
  {
   "cell_type": "code",
   "execution_count": 21,
   "metadata": {},
   "outputs": [
    {
     "name": "stdout",
     "output_type": "stream",
     "text": [
      "Train on 3750048 samples, validate on 1250017 samples\n",
      "Epoch 1/15\n",
      "3750048/3750048 [==============================] - 862s 230us/step - loss: 64.4913 - mse: 64.4912 - val_loss: 1.1639 - val_mse: 1.1639\n",
      "Epoch 2/15\n",
      "3750048/3750048 [==============================] - 870s 232us/step - loss: 1.1658 - mse: 1.1658 - val_loss: 1.2406 - val_mse: 1.2406\n",
      "Epoch 3/15\n",
      "3750048/3750048 [==============================] - 864s 230us/step - loss: 1.1664 - mse: 1.1664 - val_loss: 1.1122 - val_mse: 1.1122\n",
      "Epoch 4/15\n",
      "3750048/3750048 [==============================] - 865s 231us/step - loss: 1.1668 - mse: 1.1668 - val_loss: 1.5272 - val_mse: 1.5272\n",
      "Epoch 5/15\n",
      "3750048/3750048 [==============================] - 864s 230us/step - loss: 1.1659 - mse: 1.1659 - val_loss: 1.3073 - val_mse: 1.3073\n",
      "Epoch 6/15\n",
      "3750048/3750048 [==============================] - 863s 230us/step - loss: 1.1642 - mse: 1.1642 - val_loss: 1.1192 - val_mse: 1.1192\n",
      "Epoch 7/15\n",
      "3750048/3750048 [==============================] - 862s 230us/step - loss: 1.1655 - mse: 1.1655 - val_loss: 1.1534 - val_mse: 1.1534\n",
      "Epoch 8/15\n",
      "3750048/3750048 [==============================] - 863s 230us/step - loss: 1.1674 - mse: 1.1674 - val_loss: 1.1510 - val_mse: 1.1510\n",
      "Epoch 9/15\n",
      "3750048/3750048 [==============================] - 863s 230us/step - loss: 1.1660 - mse: 1.1660 - val_loss: 1.1090 - val_mse: 1.1090\n",
      "Epoch 10/15\n",
      "3750048/3750048 [==============================] - 856s 228us/step - loss: 1.1670 - mse: 1.1670 - val_loss: 1.8811 - val_mse: 1.8811\n",
      "Epoch 11/15\n",
      "3750048/3750048 [==============================] - 872s 233us/step - loss: 1.1642 - mse: 1.1642 - val_loss: 1.3373 - val_mse: 1.3373\n",
      "Epoch 12/15\n",
      "3750048/3750048 [==============================] - 878s 234us/step - loss: 1.1662 - mse: 1.1662 - val_loss: 1.1181 - val_mse: 1.1181\n",
      "Epoch 13/15\n",
      "3750048/3750048 [==============================] - 881s 235us/step - loss: 1.1666 - mse: 1.1665 - val_loss: 1.5585 - val_mse: 1.5585\n",
      "Epoch 14/15\n",
      "3750048/3750048 [==============================] - 886s 236us/step - loss: 1.1680 - mse: 1.1680 - val_loss: 1.1706 - val_mse: 1.1706\n",
      "Epoch 15/15\n",
      "3750048/3750048 [==============================] - 881s 235us/step - loss: 1.1668 - mse: 1.1668 - val_loss: 1.1125 - val_mse: 1.1125\n"
     ]
    }
   ],
   "source": [
    "history3 = model3.fit(\n",
    "    x=[trainDF.userId.values, trainDF.movieId.values, trainDF.pred_error.values],\n",
    "    y=trainDF.rating.values,\n",
    "    epochs=15,\n",
    "    batch_size=128,\n",
    "    validation_data=(\n",
    "        [testDF.userId.values, testDF.movieId.values, testDF.pred_error.values],\n",
    "        testDF.rating.values\n",
    "    )\n",
    ")"
   ]
  },
  {
   "cell_type": "code",
   "execution_count": 22,
   "metadata": {},
   "outputs": [
    {
     "data": {
      "image/png": "[encoded data removed]",
      "text/plain": [
       "<Figure size 432x288 with 1 Axes>"
      ]
     },
     "metadata": {
      "needs_background": "light"
     },
     "output_type": "display_data"
    },
    {
     "data": {
      "image/png": "[encoded data removed]",
      "text/plain": [
       "<Figure size 432x288 with 1 Axes>"
      ]
     },
     "metadata": {
      "needs_background": "light"
     },
     "output_type": "display_data"
    }
   ],
   "source": [
    "model3.save(\"movieLensRecommender_rncf3.h5\")\n",
    "plot(history3)"
   ]
  },
  {
   "cell_type": "markdown",
   "metadata": {},
   "source": [
    "## Sample Inference and Metrics"
   ]
  },
  {
   "cell_type": "code",
   "execution_count": 26,
   "metadata": {},
   "outputs": [
    {
     "name": "stdout",
     "output_type": "stream",
     "text": [
      "(Predicted Rating, Real Rating): (4.054775714874268, 5.0)\n",
      "(Predicted Rating, Real Rating): (4.996739387512207, 5.0)\n",
      "(Predicted Rating, Real Rating): (3.8663785457611084, 4.0)\n",
      "(Predicted Rating, Real Rating): (3.9270434379577637, 4.0)\n",
      "(Predicted Rating, Real Rating): (3.9943039417266846, 4.5)\n",
      "(Predicted Rating, Real Rating): (2.8923263549804688, 3.5)\n",
      "(Predicted Rating, Real Rating): (3.4835503101348877, 4.0)\n",
      "(Predicted Rating, Real Rating): (3.1241343021392822, 3.0)\n",
      "(Predicted Rating, Real Rating): (3.3643698692321777, 3.5)\n",
      "(Predicted Rating, Real Rating): (3.432689666748047, 4.0)\n"
     ]
    }
   ],
   "source": [
    "def predictRating(num):\n",
    "    pred_error = model2.predict([[movieDF.iloc[num].userId], [movieDF.iloc[num].movieId]])\n",
    "    pred_error = pred_error[0][0]\n",
    "    result = model3.predict([[movieDF.iloc[num].userId], [movieDF.iloc[num].movieId], [pred_error]])\n",
    "    return [result[0][0], movieDF.iloc[num].rating]\n",
    "\n",
    "def test(times):\n",
    "    top = len(movieDF)-1\n",
    "    for _ in range(times):\n",
    "        num = random.randint(0, top)\n",
    "        result = predictRating(num)\n",
    "        print(\"(Predicted Rating, Real Rating): ({0}, {1})\".format(result[0], result[1]))\n",
    "\n",
    "test(10)"
   ]
  },
  {
   "cell_type": "code",
   "execution_count": 24,
   "metadata": {},
   "outputs": [
    {
     "name": "stdout",
     "output_type": "stream",
     "text": [
      "Validation MSE: 1.1125286187700671\n"
     ]
    }
   ],
   "source": [
    "from sklearn.metrics import mean_squared_error\n",
    "\n",
    "predictions = np.empty((0))\n",
    "\n",
    "for index, _ in enumerate(testDF.iterrows()):\n",
    "    pred = predictRating(index)\n",
    "    pred = pred[0]\n",
    "    predictions = np.append(predictions, pred)\n",
    "\n",
    "print('Validation MSE:', mean_squared_error(testDF.rating.values, predictions))"
   ]
  },
  {
   "cell_type": "markdown",
   "metadata": {},
   "source": [
    "# Conclusion"
   ]
  },
  {
   "cell_type": "markdown",
   "metadata": {},
   "source": [
    "This notebook implements a recommender system using the traditional collaborative filtering matrix factorization technique with residual learning, and compared it with the implementation of a new residual learning technique using a deep learning architecture, proposed by Bobadilla, Alonso, and Hernando, using matrix factorization, residual learning and deep feedforward neural nets. It is observed that the newly-proposed deep learning architecture has greater error than the traditional approach, which may be attributed to the reduced dataset size, lack of bias terms and regularizations in the matrix factorization stage, etc. "
   ]
  }
 ],
 "metadata": {
  "kernelspec": {
   "display_name": "Python 3",
   "language": "python",
   "name": "python3"
  },
  "language_info": {
   "codemirror_mode": {
    "name": "ipython",
    "version": 3
   },
   "file_extension": ".py",
   "mimetype": "text/x-python",
   "name": "python",
   "nbconvert_exporter": "python",
   "pygments_lexer": "ipython3",
   "version": "3.7.6"
  }
 },
 "nbformat": 4,
 "nbformat_minor": 4
}
